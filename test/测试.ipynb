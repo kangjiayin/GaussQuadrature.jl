{
 "cells": [
  {
   "cell_type": "code",
   "execution_count": 5,
   "metadata": {},
   "outputs": [],
   "source": [
    "using FastGaussQuadrature\n",
    "using BenchmarkTools\n",
    "# using Pkg\n",
    "# Pkg.add(\"FastGaussQuadrature\")"
   ]
  },
  {
   "cell_type": "code",
   "execution_count": 29,
   "metadata": {},
   "outputs": [
    {
     "data": {
      "text/plain": [
       "gausslegendremesh (generic function with 1 method)"
      ]
     },
     "metadata": {},
     "output_type": "display_data"
    }
   ],
   "source": [
    "function gausslegendremesh(a::Float64,b::Float64,step::Int,n::Int)\n",
    "    x=Array{Float64}(undef,step,1)\n",
    "    w=Array{Float64}(undef,step,1)\n",
    "    x,w= gausslegendre(step)\n",
    "\n",
    "    if a > b\n",
    "        error(\"domain must a<b\")\n",
    "    end\n",
    "    \n",
    "    if n==1 # 线性取点\n",
    "        #放缩系数k\n",
    "        k1= (b-a)/2\n",
    "        k2= (a+b)/2\n",
    "        x=k2 .+(k1 .*x)\n",
    "        w .*= k1\n",
    "    elseif n==2 # log取点\n",
    "        if a < 0\n",
    "            error(\"mesh domain must be positive when using this method\")\n",
    "        end\n",
    "        a=sqrt(a)\n",
    "        b=sqrt(b)\n",
    "        x=a*b*(b/a).^x\n",
    "        w .*= x .* (log(b) - log(a))\n",
    "    end\n",
    "    x,w\n",
    "end\n",
    "\n",
    "\n",
    "# function creatGaussLegendreInt(n = 250,domain = (-1, 1), nodes = nothing, weights = nothing )\n",
    "#     function integral(f)\n",
    "#         if isnothing(nodes) || isnothing(weights) || length(nodes) ≠ n\n",
    "#             println(\"计算点和权重...\")\n",
    "#             # 这里应当是计算或获取n个点和权重的方法\n",
    "#             # 为了示例，我们使用假设的值\n",
    "#             nodes, weights = gausslegendremesh(n,domain...)\n",
    "#         else\n",
    "#             println(\"使用已有的点和权重...\")\n",
    "#         end\n",
    "\n",
    "#         # 计算积分\n",
    "#         sum = 0.0\n",
    "#         for i in 1:n\n",
    "#             sum += f(nodes[i]) * weights[i]\n",
    "#         end\n",
    "#         return sum\n",
    "#     end\n",
    "# end\n",
    "\n",
    "# function createIntegral()\n",
    "#     # 假设 nodes 和 weights 是通过某种方式预先计算好的\n",
    "#     nodes, weights = nothing, nothing\n",
    "\n",
    "#     function integral(f, n)\n",
    "#         if nodes === nothing || weights === nothing || length(nodes) ≠ n\n",
    "#             println(\"计算点和权重...\")\n",
    "#             # 这里应当是计算或获取n个点和权重的方法\n",
    "#             # 为了示例，我们使用假设的值\n",
    "#             nodes = 1:n  # 假设的节点\n",
    "#             weights = ones(n) * (1/n)  # 假设的权重，简化为均等权重\n",
    "#         else\n",
    "#             println(\"使用已有的点和权重...\")\n",
    "#         end\n",
    "\n",
    "#         # 计算积分\n",
    "#         sum = 0.0\n",
    "#         for i in 1:n\n",
    "#             sum += f(nodes[i]) * weights[i]\n",
    "#         end\n",
    "#         return sum\n",
    "#     end\n",
    "\n",
    "#     return integral\n",
    "# end\n",
    "\n",
    "# # 使用闭包创建integral函数\n",
    "# integral = createIntegral()\n",
    "\n",
    "# # 定义被积函数\n",
    "# f(x) = x^2\n",
    "\n",
    "# # 第一次调用，将计算点和权重\n",
    "# println(integral(f, 5))\n",
    "\n",
    "# # 第二次调用，将重用点和权重\n",
    "# println(integral(f, 5))"
   ]
  },
  {
   "cell_type": "code",
   "execution_count": 45,
   "metadata": {},
   "outputs": [
    {
     "name": "stdout",
     "output_type": "stream",
     "text": [
      "计算点和权重...\n",
      "使用已有的点和权重...\n"
     ]
    },
    {
     "data": {
      "text/plain": [
       "0.3333333333330002"
      ]
     },
     "metadata": {},
     "output_type": "display_data"
    }
   ],
   "source": [
    "function creatGaussLegendreInt(n = 16,domain = (-1., 1.), nodes = nothing, weights = nothing )\n",
    "    function integral(f)\n",
    "        if isnothing(nodes) || isnothing(weights) || length(nodes) ≠ n\n",
    "            println(\"计算点和权重...\")\n",
    "            # 这里应当是计算或获取n个点和权重的方法\n",
    "            # 为了示例，我们使用假设的值\n",
    "            nodes, weights = gausslegendremesh(domain...,n,1)\n",
    "        else\n",
    "            println(\"使用已有的点和权重...\")\n",
    "        end\n",
    "\n",
    "        # 计算积分\n",
    "        sum = 0.0\n",
    "        for i in 1:n\n",
    "            sum += f(nodes[i]) * weights[i]\n",
    "        end\n",
    "        return sum\n",
    "    end\n",
    "end\n",
    "\n",
    "\n",
    "int4=creatGaussLegendreInt(200,[0.0001,1.])\n",
    "int4(x->x^2)\n",
    "int4(x->x^2)"
   ]
  },
  {
   "cell_type": "code",
   "execution_count": 46,
   "metadata": {},
   "outputs": [
    {
     "name": "stdout",
     "output_type": "stream",
     "text": [
      "使用已有的点和权重...\n"
     ]
    },
    {
     "data": {
      "text/plain": [
       "0.3333333333330002"
      ]
     },
     "metadata": {},
     "output_type": "display_data"
    }
   ],
   "source": [
    "int4(x->x^2)"
   ]
  },
  {
   "cell_type": "code",
   "execution_count": null,
   "metadata": {},
   "outputs": [],
   "source": []
  }
 ],
 "metadata": {
  "interpreter": {
   "hash": "31f2aee4e71d21fbe5cf8b01ff0e069b9275f58929596ceb00d14d90e3e16cd6"
  },
  "kernelspec": {
   "display_name": "Julia 1.10.1",
   "language": "julia",
   "name": "julia-1.10"
  },
  "language_info": {
   "file_extension": ".jl",
   "mimetype": "application/julia",
   "name": "julia",
   "version": "1.10.1"
  },
  "orig_nbformat": 4
 },
 "nbformat": 4,
 "nbformat_minor": 2
}
