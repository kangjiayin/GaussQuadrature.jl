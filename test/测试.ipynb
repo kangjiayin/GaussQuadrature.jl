{
 "cells": [
  {
   "cell_type": "code",
   "execution_count": 27,
   "source": [
    "using FastGaussQuadrature\n",
    "using BenchmarkTools\n",
    "f(x)=x^2+1+x"
   ],
   "outputs": [
    {
     "output_type": "execute_result",
     "data": {
      "text/plain": [
       "f (generic function with 1 method)"
      ]
     },
     "metadata": {},
     "execution_count": 27
    }
   ],
   "metadata": {}
  },
  {
   "cell_type": "code",
   "execution_count": 13,
   "source": [
    "function test1(x)\n",
    "    x=a*x+b\n",
    "end"
   ],
   "outputs": [
    {
     "output_type": "execute_result",
     "data": {
      "text/plain": [
       "test1 (generic function with 1 method)"
      ]
     },
     "metadata": {},
     "execution_count": 13
    }
   ],
   "metadata": {}
  },
  {
   "cell_type": "code",
   "execution_count": 11,
   "source": [
    "function test2!(x)\n",
    "   x=a*x+b \n",
    "end"
   ],
   "outputs": [
    {
     "output_type": "execute_result",
     "data": {
      "text/plain": [
       "test2! (generic function with 2 methods)"
      ]
     },
     "metadata": {},
     "execution_count": 11
    }
   ],
   "metadata": {}
  },
  {
   "cell_type": "code",
   "execution_count": 17,
   "source": [
    "test2!(x);x"
   ],
   "outputs": [
    {
     "output_type": "execute_result",
     "data": {
      "text/plain": [
       "1"
      ]
     },
     "metadata": {},
     "execution_count": 17
    }
   ],
   "metadata": {}
  },
  {
   "cell_type": "code",
   "execution_count": 9,
   "source": [
    "a=2;b=3"
   ],
   "outputs": [
    {
     "output_type": "execute_result",
     "data": {
      "text/plain": [
       "3"
      ]
     },
     "metadata": {},
     "execution_count": 9
    }
   ],
   "metadata": {}
  },
  {
   "cell_type": "code",
   "execution_count": 10,
   "source": [
    "print(test1(3),\" \",test2!(3))"
   ],
   "outputs": [
    {
     "output_type": "stream",
     "name": "stdout",
     "text": [
      "9 9"
     ]
    }
   ],
   "metadata": {}
  },
  {
   "cell_type": "code",
   "execution_count": 19,
   "source": [
    "x,w= gausslegendre(1000)"
   ],
   "outputs": [
    {
     "output_type": "execute_result",
     "data": {
      "text/plain": [
       "([-0.9999971112980756, -0.9999847796329174, -0.9999625941483602, -0.9999305501355009, -0.9998886473067012, -0.99983688593097, -0.999775266470634, -0.9997037895136229, -0.9996224557554706, -0.999531265993324  …  0.999531265993324, 0.9996224557554706, 0.9997037895136229, 0.999775266470634, 0.99983688593097, 0.9998886473067012, 0.9999305501355009, 0.9999625941483602, 0.9999847796329174, 0.9999971112980756], [7.41333841643207e-6, 1.7256769773739226e-5, 2.7114606565205854e-5, 3.6973442006435494e-5, 4.683216706971275e-5, 5.6690506511517286e-5, 6.654831593030786e-5, 7.640548208416073e-5, 8.626190132806907e-5, 9.611747354547054e-5  …  9.611747354547054e-5, 8.626190132806907e-5, 7.640548208416073e-5, 6.654831593030786e-5, 5.6690506511517286e-5, 4.683216706971275e-5, 3.6973442006435494e-5, 2.7114606565205854e-5, 1.7256769773739226e-5, 7.41333841643207e-6])"
      ]
     },
     "metadata": {},
     "execution_count": 19
    }
   ],
   "metadata": {}
  },
  {
   "cell_type": "code",
   "execution_count": 20,
   "source": [
    "f(x)=x*sin(x)"
   ],
   "outputs": [
    {
     "output_type": "execute_result",
     "data": {
      "text/plain": [
       "f (generic function with 1 method)"
      ]
     },
     "metadata": {},
     "execution_count": 20
    }
   ],
   "metadata": {}
  },
  {
   "cell_type": "code",
   "execution_count": 21,
   "source": [
    "function gausslegendreint(f,a,b,n)\n",
    "    ```\n",
    "    从a到b的高斯积分，\n",
    "    分为n类\n",
    "    第一类是从a到b的排列是直接拉伸\n",
    "    第二类是从a到b的指数伸长\n",
    "    ```\n",
    "    x,w= gausslegendre(64)\n",
    "    result=0.::Float64\n",
    "    if n==1\n",
    "        #放缩系数k\n",
    "        k1= (b-a)/2\n",
    "        k2= (a+b)/2\n",
    "        x=k2 .+(k1 .*x)\n",
    "        for i in eachindex(x)\n",
    "            result+=f(x[i])*w[i]\n",
    "        end\n",
    "        result*=(b-a)/2\n",
    "    elseif n==2\n",
    "        a=sqrt(a)\n",
    "        b=sqrt(b)\n",
    "        x=a*b*(b/a).^x\n",
    "        for i in eachindex(x)\n",
    "            w[i]*=x[i]*(log(b)-log(a))\n",
    "            result+=f(x[i])*w[i]\n",
    "        end\n",
    "    end\n",
    "    result\n",
    "end"
   ],
   "outputs": [
    {
     "output_type": "execute_result",
     "data": {
      "text/plain": [
       "gausslegendreint (generic function with 1 method)"
      ]
     },
     "metadata": {},
     "execution_count": 21
    }
   ],
   "metadata": {}
  },
  {
   "cell_type": "code",
   "execution_count": 36,
   "source": [
    "gausslegendreint(x->x^2,0.000001,10^4.,128,2)"
   ],
   "outputs": [
    {
     "output_type": "execute_result",
     "data": {
      "text/plain": [
       "3.333333333333331e11"
      ]
     },
     "metadata": {},
     "execution_count": 36
    }
   ],
   "metadata": {}
  },
  {
   "cell_type": "code",
   "execution_count": 30,
   "source": [
    "function gausslegendreint(f::Function,a::Float64,b::Float64,step::Int,n::Int)\n",
    "    ```\n",
    "    从a到b的高斯积分，\n",
    "    分为n类\n",
    "    第一类是从a到b的排列是直接拉伸\n",
    "    第二类是从a到b的指数伸长\n",
    "    ```\n",
    "    x,w= gausslegendre(step)\n",
    "    result=0.::Float64\n",
    "    if n==1\n",
    "        #放缩系数k\n",
    "        k1= (b-a)/2\n",
    "        k2= (a+b)/2\n",
    "        x=k2 .+(k1 .*x)\n",
    "        for i in eachindex(x)\n",
    "            result+=f(x[i])*w[i]\n",
    "        end\n",
    "        result*=(b-a)/2\n",
    "    elseif n==2\n",
    "        a=sqrt(a)\n",
    "        b=sqrt(b)\n",
    "        x=a*b*(b/a).^x\n",
    "        for i in eachindex(x)\n",
    "            w[i]*=x[i]*(log(b)-log(a))\n",
    "            result+=f(x[i])*w[i]\n",
    "        end\n",
    "    end\n",
    "    result\n",
    "end"
   ],
   "outputs": [
    {
     "output_type": "execute_result",
     "data": {
      "text/plain": [
       "gausslegendreint (generic function with 2 methods)"
      ]
     },
     "metadata": {},
     "execution_count": 30
    }
   ],
   "metadata": {}
  },
  {
   "cell_type": "code",
   "execution_count": 17,
   "source": [
    "x,w= gausslegendre(64)\n",
    "a=0\n",
    "b=1\n",
    "k1= (b-a)/2\n",
    "        k2= (a+b)/2\n",
    "        x=k2 .+(k1 .*x)\n",
    "        result=0\n",
    "        for i in eachindex(x)\n",
    "                result+=f(x[i])*w[i]\n",
    "                \n",
    "        end\n",
    "        result"
   ],
   "outputs": [
    {
     "output_type": "execute_result",
     "data": {
      "text/plain": [
       "2.666666666666665"
      ]
     },
     "metadata": {},
     "execution_count": 17
    }
   ],
   "metadata": {}
  },
  {
   "cell_type": "code",
   "execution_count": 28,
   "source": [
    "gausslegendreint(f,0.0,1,1)"
   ],
   "outputs": [
    {
     "output_type": "execute_result",
     "data": {
      "text/plain": [
       "1.8333333333333321"
      ]
     },
     "metadata": {},
     "execution_count": 28
    }
   ],
   "metadata": {}
  },
  {
   "cell_type": "code",
   "execution_count": 29,
   "source": [
    "gausslegendreint(f,0.00000000001,1,2)"
   ],
   "outputs": [
    {
     "output_type": "execute_result",
     "data": {
      "text/plain": [
       "1.8333333333233341"
      ]
     },
     "metadata": {},
     "execution_count": 29
    }
   ],
   "metadata": {}
  },
  {
   "cell_type": "code",
   "execution_count": 6,
   "source": [
    "function mesh(cutdown,cutup,f,n)\n",
    "    x=[10^(log10(cutdown)+i/(n-1)*(log10(cutup)-log10(cutdown))) for i= 0:n-1]::Array{Float64}\n",
    "    w=Array{Float64}(undef,n)\n",
    "    for i in 1:n\n",
    "        if i==1\n",
    "            w[1]=x[2]-x[1]\n",
    "        elseif i==n\n",
    "            w[n]=x[i]-x[i-1]\n",
    "        else\n",
    "            w[i]=x[i+1]-x[i-1]\n",
    "        end\n",
    "    end\n",
    "    return w'f.(x)\n",
    "end"
   ],
   "outputs": [
    {
     "output_type": "execute_result",
     "data": {
      "text/plain": [
       "mesh (generic function with 1 method)"
      ]
     },
     "metadata": {},
     "execution_count": 6
    }
   ],
   "metadata": {}
  },
  {
   "cell_type": "code",
   "execution_count": 18,
   "source": [
    "mesh(0.000001,1,f,64)"
   ],
   "outputs": [
    {
     "output_type": "execute_result",
     "data": {
      "text/plain": [
       "7.671940448752082"
      ]
     },
     "metadata": {},
     "execution_count": 18
    }
   ],
   "metadata": {}
  },
  {
   "cell_type": "code",
   "execution_count": 1,
   "source": [
    "a=1\n",
    "b=1\n",
    "f(x)=a*x+b"
   ],
   "outputs": [
    {
     "output_type": "execute_result",
     "data": {
      "text/plain": [
       "f (generic function with 1 method)"
      ]
     },
     "metadata": {},
     "execution_count": 1
    }
   ],
   "metadata": {}
  },
  {
   "cell_type": "code",
   "execution_count": null,
   "source": [
    "f(a,b,x)=a*x+b"
   ],
   "outputs": [],
   "metadata": {}
  }
 ],
 "metadata": {
  "orig_nbformat": 4,
  "language_info": {
   "file_extension": ".jl",
   "name": "julia",
   "mimetype": "application/julia",
   "version": "1.6.0"
  },
  "kernelspec": {
   "name": "julia-1.6",
   "display_name": "Julia 1.6.0-beta1",
   "language": "julia"
  }
 },
 "nbformat": 4,
 "nbformat_minor": 2
}